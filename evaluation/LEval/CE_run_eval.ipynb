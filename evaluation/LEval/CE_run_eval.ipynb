{
 "cells": [
  {
   "cell_type": "code",
   "execution_count": 5,
   "metadata": {},
   "outputs": [
    {
     "name": "stdout",
     "output_type": "stream",
     "text": [
      "\u001b[0m\u001b[01;34meval_ppl\u001b[0m/  \u001b[01;34mLEval\u001b[0m/\n"
     ]
    }
   ],
   "source": [
    "ls"
   ]
  },
  {
   "cell_type": "code",
   "execution_count": 8,
   "metadata": {},
   "outputs": [
    {
     "name": "stderr",
     "output_type": "stream",
     "text": [
      "[nltk_data] Downloading package punkt to /home/et/nltk_data...\n",
      "[nltk_data]   Package punkt is already up-to-date!\n",
      "/mnt/datascience1/Adrien/context_extension/evaluation/LEval/Evaluation/auto_eval.py:55: FutureWarning: Metric is deprecated and will be removed in the next major version of datasets. Use the new library 🤗 Evaluate instead: https://huggingface.co/docs/evaluate\n",
      "  super().__init__(*args, **kwargs)\n",
      "[nltk_data] Downloading package punkt to /home/et/nltk_data...\n",
      "[nltk_data]   Package punkt is already up-to-date!\n",
      "/mnt/datascience1/Adrien/context_extension/evaluation/LEval/Evaluation/auto_eval.py:55: FutureWarning: Metric is deprecated and will be removed in the next major version of datasets. Use the new library 🤗 Evaluate instead: https://huggingface.co/docs/evaluate\n",
      "  super().__init__(*args, **kwargs)\n",
      "[nltk_data] Downloading package punkt to /home/et/nltk_data...\n",
      "[nltk_data]   Package punkt is already up-to-date!\n",
      "/mnt/datascience1/Adrien/context_extension/evaluation/LEval/Evaluation/auto_eval.py:55: FutureWarning: Metric is deprecated and will be removed in the next major version of datasets. Use the new library 🤗 Evaluate instead: https://huggingface.co/docs/evaluate\n",
      "  super().__init__(*args, **kwargs)\n",
      "[nltk_data] Downloading package punkt to /home/et/nltk_data...\n",
      "[nltk_data]   Package punkt is already up-to-date!\n",
      "/mnt/datascience1/Adrien/context_extension/evaluation/LEval/Evaluation/auto_eval.py:55: FutureWarning: Metric is deprecated and will be removed in the next major version of datasets. Use the new library 🤗 Evaluate instead: https://huggingface.co/docs/evaluate\n",
      "  super().__init__(*args, **kwargs)\n",
      "[nltk_data] Downloading package punkt to /home/et/nltk_data...\n",
      "[nltk_data]   Package punkt is already up-to-date!\n",
      "/mnt/datascience1/Adrien/context_extension/evaluation/LEval/Evaluation/auto_eval.py:55: FutureWarning: Metric is deprecated and will be removed in the next major version of datasets. Use the new library 🤗 Evaluate instead: https://huggingface.co/docs/evaluate\n",
      "  super().__init__(*args, **kwargs)\n",
      "[nltk_data] Downloading package punkt to /home/et/nltk_data...\n",
      "[nltk_data]   Package punkt is already up-to-date!\n",
      "/mnt/datascience1/Adrien/context_extension/evaluation/LEval/Evaluation/auto_eval.py:55: FutureWarning: Metric is deprecated and will be removed in the next major version of datasets. Use the new library 🤗 Evaluate instead: https://huggingface.co/docs/evaluate\n",
      "  super().__init__(*args, **kwargs)\n"
     ]
    },
    {
     "data": {
      "text/html": [
       "<div>\n",
       "<style scoped>\n",
       "    .dataframe tbody tr th:only-of-type {\n",
       "        vertical-align: middle;\n",
       "    }\n",
       "\n",
       "    .dataframe tbody tr th {\n",
       "        vertical-align: top;\n",
       "    }\n",
       "\n",
       "    .dataframe thead th {\n",
       "        text-align: right;\n",
       "    }\n",
       "</style>\n",
       "<table border=\"1\" class=\"dataframe\">\n",
       "  <thead>\n",
       "    <tr style=\"text-align: right;\">\n",
       "      <th></th>\n",
       "      <th>coursera</th>\n",
       "      <th>gsm100</th>\n",
       "      <th>quality</th>\n",
       "      <th>tpo</th>\n",
       "      <th>codeU</th>\n",
       "      <th>topic_retrieval_longchat</th>\n",
       "    </tr>\n",
       "  </thead>\n",
       "  <tbody>\n",
       "    <tr>\n",
       "      <th>0</th>\n",
       "      <td>46.66</td>\n",
       "      <td>43.0</td>\n",
       "      <td>40.59</td>\n",
       "      <td>60.97</td>\n",
       "      <td>2.22</td>\n",
       "      <td>0.0</td>\n",
       "    </tr>\n",
       "  </tbody>\n",
       "</table>\n",
       "</div>"
      ],
      "text/plain": [
       "   coursera  gsm100  quality    tpo  codeU  topic_retrieval_longchat\n",
       "0     46.66    43.0    40.59  60.97   2.22                       0.0"
      ]
     },
     "execution_count": 8,
     "metadata": {},
     "output_type": "execute_result"
    }
   ],
   "source": [
    "import ast\n",
    "import subprocess\n",
    "import pandas as pd\n",
    "import nltk\n",
    "nltk.download('punkt', quiet=True)\n",
    "\n",
    "results = []\n",
    "base_path = \"LEval/Predictions\"\n",
    "model_path = \"mistralai/Mistral-7B-Instruct-v0.1-16k\"\n",
    "\n",
    "close_tasks = ['coursera', 'gsm100', 'quality', 'tpo', 'codeU', 'topic_retrieval_longchat']\n",
    "open_tasks = ['financial_qa', 'legal_contract_qa', 'multidoc_qa', 'narrative_qa', 'natural_question', 'scientific_qa']\n",
    "open_tasks_2 = ['paper_assistant', 'review_summ', 'meeting_summ', 'tv_show_summ']\n",
    "\n",
    "for task in close_tasks:\n",
    "    path = base_path + \"/exam_eval/\" + model_path + \"/\" + task + \".pred.jsonl\"\n",
    "    command = \"python LEval/Evaluation/auto_eval.py --pred_file {}\"\n",
    "\n",
    "    eval = subprocess.check_output(command.format(path), shell=True, text=True).strip().split('\\n')[-1]\n",
    "\n",
    "    results.append(ast.literal_eval(eval)['LEval_score'])\n",
    "'''\n",
    "for task in open_tasks:\n",
    "    path = base_path + \"/ngram_eval/\" + model_path + \"/\" + task + \".pred.jsonl\"\n",
    "    command = \"python LEval/Evaluation/auto_eval.py --pred_file {}\"\n",
    "\n",
    "    eval = subprocess.check_output(command.format(path), shell=True, text=True).strip().split('\\n')[-1]\n",
    "\n",
    "    results.append(ast.literal_eval(eval)['LEval_score'])\n",
    "\n",
    "for task in open_tasks_2:\n",
    "    path = base_path + \"/ngram_eval/\" + model_path + \"/\" + task + \".pred.jsonl\"\n",
    "    command = \"python LEval/Evaluation/auto_eval.py --pred_file {}\"\n",
    "\n",
    "    eval = subprocess.check_output(command.format(path), shell=True, text=True).strip().split('\\n')[-1]\n",
    "\n",
    "    results.append(ast.literal_eval(eval)['rouge/rouge1'])\n",
    "    results.append(ast.literal_eval(eval)['rouge/rouge2'])\n",
    "    results.append(ast.literal_eval(eval)['rouge/rougeL'])\n",
    "'''\n",
    "pd.set_option('display.max_columns', None)\n",
    "results = pd.DataFrame([results], columns=close_tasks).round(2)#+open_tasks+[open_tasks_2[0]]*3+[open_tasks_2[1]]*3+[open_tasks_2[2]]*3+[open_tasks_2[3]]*3).round(2)\n",
    "results"
   ]
  }
 ],
 "metadata": {
  "kernelspec": {
   "display_name": "context_extension",
   "language": "python",
   "name": "python3"
  },
  "language_info": {
   "codemirror_mode": {
    "name": "ipython",
    "version": 3
   },
   "file_extension": ".py",
   "mimetype": "text/x-python",
   "name": "python",
   "nbconvert_exporter": "python",
   "pygments_lexer": "ipython3",
   "version": "3.11.5"
  }
 },
 "nbformat": 4,
 "nbformat_minor": 2
}
